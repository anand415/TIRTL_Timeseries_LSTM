{
 "cells": [
  {
   "cell_type": "code",
   "execution_count": 1,
   "id": "386e0d35",
   "metadata": {},
   "outputs": [],
   "source": [
    "import pandas as pd"
   ]
  },
  {
   "cell_type": "code",
   "execution_count": 4,
   "id": "542a8f99",
   "metadata": {},
   "outputs": [],
   "source": [
    "A=pd.read_csv('TIRTL_hist_allclas.csv')"
   ]
  },
  {
   "cell_type": "code",
   "execution_count": 5,
   "id": "fdef706c",
   "metadata": {},
   "outputs": [
    {
     "data": {
      "text/plain": [
       "Index(['T', 'TIRTL_hist_allclas'], dtype='object')"
      ]
     },
     "execution_count": 5,
     "metadata": {},
     "output_type": "execute_result"
    }
   ],
   "source": [
    "A.columns"
   ]
  },
  {
   "cell_type": "code",
   "execution_count": 7,
   "id": "5e3953f6",
   "metadata": {},
   "outputs": [],
   "source": [
    "A.to_pickle('chk.pkl',compression='bz2')"
   ]
  },
  {
   "cell_type": "code",
   "execution_count": 8,
   "id": "d58b8873",
   "metadata": {},
   "outputs": [],
   "source": [
    "A=pd.read_csv('TIRTL_hist_allclas_60s.csv')\n",
    "A.to_pickle('TIRTL_hist_allclas_60s_bz2.pkl',compression='bz2')"
   ]
  },
  {
   "cell_type": "code",
   "execution_count": 9,
   "id": "b60e5869",
   "metadata": {},
   "outputs": [],
   "source": [
    "A=pd.read_csv('TIRTL_hist_allclas_300s.csv')\n",
    "A.to_pickle('TIRTL_hist_allclas_300s_bz2.pkl',compression='bz2')"
   ]
  },
  {
   "cell_type": "code",
   "execution_count": null,
   "id": "ba2fd014",
   "metadata": {},
   "outputs": [],
   "source": []
  }
 ],
 "metadata": {
  "kernelspec": {
   "display_name": "Python 3 (ipykernel)",
   "language": "python",
   "name": "python3"
  },
  "language_info": {
   "codemirror_mode": {
    "name": "ipython",
    "version": 3
   },
   "file_extension": ".py",
   "mimetype": "text/x-python",
   "name": "python",
   "nbconvert_exporter": "python",
   "pygments_lexer": "ipython3",
   "version": "3.10.10"
  }
 },
 "nbformat": 4,
 "nbformat_minor": 5
}
